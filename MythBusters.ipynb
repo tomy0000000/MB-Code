{
 "cells": [
  {
   "cell_type": "code",
   "execution_count": 61,
   "metadata": {},
   "outputs": [],
   "source": [
    "import os\n",
    "import re\n",
    "import json\n",
    "\n",
    "import pandas as pd"
   ]
  },
  {
   "cell_type": "code",
   "execution_count": 62,
   "metadata": {},
   "outputs": [],
   "source": [
    "WIKI_URL = r\"https://en.wikipedia.org/wiki/List_of_MythBusters_episodes\"\n",
    "FILENAME = os.path.abspath(os.path.join(os.path.dirname(__name__), \"src\", \"mythbusters.json\"))"
   ]
  },
  {
   "cell_type": "code",
   "execution_count": 63,
   "metadata": {},
   "outputs": [],
   "source": [
    "def get_season(season_table, index):\n",
    "    season = season_table.loc[index][\"Season\"].values[1]\n",
    "    return f\"{season} season\""
   ]
  },
  {
   "cell_type": "code",
   "execution_count": 64,
   "metadata": {},
   "outputs": [],
   "source": [
    "def normalize(name):\n",
    "    name = name.lower()\n",
    "    name = name.replace(\" / \", \" \").replace(\"/\", \" \").replace(\" - \", \"-\")\n",
    "    name = re.sub(r\"[^-\\w\\s]\", \"\", name)\n",
    "    name = name.replace(\" \", \"-\")\n",
    "    return name"
   ]
  },
  {
   "cell_type": "code",
   "execution_count": 65,
   "metadata": {},
   "outputs": [],
   "source": [
    "def process_table(df, season):\n",
    "    episodes = []\n",
    "    for index, row in df[::2].iterrows():\n",
    "        for name in re.findall(r\"\\\"(.+?)\\\"\", row[\"Title\"]):\n",
    "            episodes.append(\n",
    "                {\n",
    "                    \"name\": normalize(name),\n",
    "                    \"episode\": row[\"No. in season\"],\n",
    "                    \"season\": season,\n",
    "                }\n",
    "            )\n",
    "    return episodes"
   ]
  },
  {
   "cell_type": "code",
   "execution_count": 66,
   "metadata": {},
   "outputs": [
    {
     "data": {
      "text/plain": [
       "22"
      ]
     },
     "execution_count": 66,
     "metadata": {},
     "output_type": "execute_result"
    }
   ],
   "source": [
    "df = pd.read_html(WIKI_URL)\n",
    "len(df)"
   ]
  },
  {
   "cell_type": "code",
   "execution_count": 67,
   "metadata": {},
   "outputs": [],
   "source": [
    "results = []\n",
    "for ind, table in enumerate(df):\n",
    "    if \"Title\" in table:\n",
    "        season = get_season(df[0], ind - 1)\n",
    "        episodes = process_table(table, season)\n",
    "        results.extend(episodes)"
   ]
  },
  {
   "cell_type": "code",
   "execution_count": 68,
   "metadata": {},
   "outputs": [],
   "source": [
    "with open(FILENAME, \"w\") as f:\n",
    "    json.dump(results, f)"
   ]
  },
  {
   "cell_type": "code",
   "execution_count": null,
   "metadata": {},
   "outputs": [],
   "source": []
  },
  {
   "cell_type": "code",
   "execution_count": null,
   "metadata": {},
   "outputs": [],
   "source": []
  },
  {
   "cell_type": "code",
   "execution_count": null,
   "metadata": {},
   "outputs": [],
   "source": []
  },
  {
   "cell_type": "code",
   "execution_count": null,
   "metadata": {},
   "outputs": [],
   "source": []
  },
  {
   "cell_type": "code",
   "execution_count": null,
   "metadata": {},
   "outputs": [],
   "source": []
  }
 ],
 "metadata": {
  "kernelspec": {
   "display_name": "Python 3",
   "language": "python",
   "name": "python3"
  },
  "language_info": {
   "codemirror_mode": {
    "name": "ipython",
    "version": 3
   },
   "file_extension": ".py",
   "mimetype": "text/x-python",
   "name": "python",
   "nbconvert_exporter": "python",
   "pygments_lexer": "ipython3",
   "version": "3.7.4"
  }
 },
 "nbformat": 4,
 "nbformat_minor": 4
}
